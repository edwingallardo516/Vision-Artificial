{
  "nbformat": 4,
  "nbformat_minor": 0,
  "metadata": {
    "colab": {
      "name": "sacar informacion de texto.ipynb",
      "provenance": [],
      "collapsed_sections": [],
      "authorship_tag": "ABX9TyMgMU9/P7VmY8lgkM0IbW+h",
      "include_colab_link": true
    },
    "kernelspec": {
      "name": "python3",
      "display_name": "Python 3"
    },
    "language_info": {
      "name": "python"
    }
  },
  "cells": [
    {
      "cell_type": "markdown",
      "metadata": {
        "id": "view-in-github",
        "colab_type": "text"
      },
      "source": [
        "<a href=\"https://colab.research.google.com/github/edwingallardo516/Vision-Artificial/blob/main/sacar_informacion_de_texto.ipynb\" target=\"_parent\"><img src=\"https://colab.research.google.com/assets/colab-badge.svg\" alt=\"Open In Colab\"/></a>"
      ]
    },
    {
      "cell_type": "markdown",
      "metadata": {
        "id": "D9bf8WD_eIDO"
      },
      "source": [
        "Instalar Tesseract, herramienta para obtener texto a partir de imágenes"
      ]
    },
    {
      "cell_type": "code",
      "metadata": {
        "id": "46wecNnudaT1"
      },
      "source": [
        "!pip install pytesseract\n",
        "!sudo apt install tesseract-ocr"
      ],
      "execution_count": null,
      "outputs": []
    },
    {
      "cell_type": "markdown",
      "metadata": {
        "id": "SrorczA8edT_"
      },
      "source": [
        "Librerias necesarias"
      ]
    },
    {
      "cell_type": "code",
      "metadata": {
        "id": "aF9bfWP7et6P"
      },
      "source": [
        "import pytesseract\n",
        "import cv2 as cv\n",
        "import re\n",
        "import numpy as np\n",
        "import pandas as pd\n",
        "from google.colab.patches import cv2_imshow\n",
        "pytesseract.pytesseract.tesseract_cmd = (\n",
        "    r'/usr/bin/tesseract'\n",
        ")"
      ],
      "execution_count": 2,
      "outputs": []
    },
    {
      "cell_type": "markdown",
      "metadata": {
        "id": "OhTBP0Ybf2GI"
      },
      "source": [
        "Cargar imagen de prueba"
      ]
    },
    {
      "cell_type": "code",
      "metadata": {
        "id": "8Uf_mtLhgj3Y"
      },
      "source": [
        "!curl -o imagen_prueba.jpg https://pbs.twimg.com/media/CzOOciRXAAAo2ma.jpg\n",
        "image = cv2.imread('imagen_prueba.jpg')\n",
        "cv2_imshow(image)"
      ],
      "execution_count": null,
      "outputs": []
    }
  ]
}